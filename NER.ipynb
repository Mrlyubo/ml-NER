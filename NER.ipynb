{
 "cells": [
  {
   "cell_type": "code",
   "execution_count": 1,
   "metadata": {},
   "outputs": [],
   "source": [
    "import sklearn\n",
    "import numpy\n",
    "import os"
   ]
  },
  {
   "cell_type": "code",
   "execution_count": 2,
   "metadata": {},
   "outputs": [],
   "source": [
    "def calc_f1(true_labels,predicted_labels):\n",
    "    # true_labels - list of true labels (1/-1)\n",
    "    # predicted_labels - list of predicted labels (1/-1)\n",
    "    # return precision, recall and f1\n",
    "    \n",
    "    predicted_yes = 0\n",
    "    actual_yes = 0   \n",
    "    predicted_yes_and_actual_yes = 0\n",
    "    for i in range(len(true_labels)):\n",
    "        if predicted_labels[i] == 1:\n",
    "            predicted_yes += 1\n",
    "        if true_labels[i] == 1:\n",
    "            actual_yes += 1\n",
    "        if predicted_labels[i] == 1 and true_labels[i] == 1:\n",
    "            predicted_yes_and_actual_yes += 1\n",
    "\n",
    "    precision = predicted_yes_and_actual_yes / predicted_yes\n",
    "    recall = predicted_yes_and_actual_yes / actual_yes\n",
    "    f1 = 2 * precision * recall / (precision + recall)\n",
    "    return precision, recall, f1\n"
   ]
  },
  {
   "cell_type": "code",
   "execution_count": null,
   "metadata": {},
   "outputs": [],
   "source": []
  },
  {
   "cell_type": "code",
   "execution_count": 3,
   "metadata": {},
   "outputs": [],
   "source": [
    "from sklearn import svm\n",
    "from sklearn.feature_extraction import DictVectorizer\n",
    "from sklearn.svm import LinearSVC\n",
    "class Classifier(object):\n",
    "    def __init__(self, algorithm, x_train, y_train, iterations=1, averaged = False, eta = 1, alpha = 1.1):\n",
    "        # Algorithm values can be Perceptron, Winnow, Adagrad, Perceptron-Avg, Winnow-Avg, Adagrad-Avg, SVM\n",
    "        # Get features from examples; this line figures out what features are present in\n",
    "        # the training data, such as 'w-1=dog' or 'w+1=cat'\n",
    "        self.features = {feature for xi in x_train for feature in xi.keys()}\n",
    "        \n",
    "        if algorithm == 'Perceptron':\n",
    "            #Initialize w, bias\n",
    "            self.w, self.w['bias'] = {feature:0.0 for feature in self.features}, 0.0\n",
    "            #Iterate over the training data n times\n",
    "            for j in range(iterations):\n",
    "                #Check each training example\n",
    "                for i in range(len(x_train)):\n",
    "                    xi, yi = x_train[i], y_train[i]\n",
    "                    y_hat = self.predict(xi)\n",
    "                    #Update weights if there is a misclassification\n",
    "                    if yi != y_hat:\n",
    "                        for feature, value in xi.items():\n",
    "                            self.w[feature] = self.w[feature] + eta*yi*value\n",
    "                        self.w['bias'] = self.w['bias'] + eta*yi\n",
    "\n",
    "        elif algorithm == 'Winnow':\n",
    "            #Initialize w, bias(bias is fixed)\n",
    "            self.w, self.w['bias'] = {feature:1.0 for feature in self.features}, -len(self.features)\n",
    "            #Iterate over the training data n times\n",
    "            for j in range(iterations):\n",
    "                #Check each training example\n",
    "                for i in range(len(x_train)):\n",
    "                    xi, yi = x_train[i], y_train[i]\n",
    "                    y_hat = self.predict(xi)\n",
    "                    #Update weights if there is a misclassification\n",
    "                    if yi != y_hat:\n",
    "                        for feature, value in xi.items():\n",
    "                            self.w[feature] = self.w[feature] * alpha ** (yi*value)\n",
    "                        \n",
    "\n",
    "        elif algorithm == 'Adagrad':\n",
    "            #Initialize w, bias\n",
    "            self.w, self.w['bias'] = {feature:0.0 for feature in self.features}, 0.0\n",
    "            #Iterate over the training data n times\n",
    "            \n",
    "            #Initialize G\n",
    "            G, G['bias'] = {feature:0.0 for feature in self.features}, 0\n",
    "            for j in range(iterations):\n",
    "\n",
    "                for i in range(len(x_train)):\n",
    "                    xi, yi = x_train[i], y_train[i]\n",
    "                    #Update weight vector and bias when y*s<= 1.\n",
    "                    s = sum([self.w[feature]*value for feature, value in xi.items()]) + self.w['bias']\n",
    "                    if yi * s <= 1:\n",
    "                        for feature, value in xi.items():  \n",
    "                            G[feature] += (-yi * value) ** 2\n",
    "                            self.w[feature] = self.w[feature] + eta * yi * value / (G[feature] ** 0.5)\n",
    "                        G['bias'] += (-yi) ** 2\n",
    "                        self.w['bias'] = self.w['bias']+ eta * yi / (G['bias'] ** 0.5)\n",
    "                        \n",
    "                        \n",
    "        elif algorithm == 'Perceptron-Avg': \n",
    "            #Initialize w, bias\n",
    "            self.w, self.w['bias'] = {feature:0.0 for feature in self.features}, 0.0  # initialize weights and bias\n",
    "            self.u, self.u['bias'] = {feature:0.0 for feature in self.features}, 0.0  # initialize cached weights and bias\n",
    "            c = 1                                                                     # initialize example counter to one\n",
    "            #Iterate over the training data n times\n",
    "            for j in range(iterations):\n",
    "                # Iterate over every xi, yi in x_train, y_train\n",
    "                for i in range(len(x_train)):\n",
    "                    xi, yi = x_train[i], y_train[i]\n",
    "                    #s = sum([self.w[feature]*value for feature, value in xi.items()]) + self.w['bias']\n",
    "                    y_hat = self.predict(xi)\n",
    "                    # if there is a misclassification, update.\n",
    "                    if yi != y_hat:\n",
    "                        for feature, value in xi.items():\n",
    "                            self.w[feature] += eta*yi*value      # update weights\n",
    "                            self.u[feature] += eta*yi*c*value    # update cached weights\n",
    "                        self.w['bias'] += eta*yi                 # update bias\n",
    "                        self.u['bias'] += eta*c*yi               # update cached bias\n",
    "                    c += 1\n",
    "            # return averaged weights and bias\n",
    "            for feature in self.w:\n",
    "                self.w[feature] = self.w[feature] - self.u[feature] / c\n",
    "                       \n",
    "        \n",
    "        elif algorithm == 'Winnow-Avg':\n",
    "            #Initialize w, bias(bias is fixed)\n",
    "            self.w, self.w['bias'] = {feature:1.0 for feature in self.features}, -len(self.features)\n",
    "            self.w_sum = {feature:1.0 for feature in self.features}\n",
    "            \n",
    "            cnt = 0\n",
    "            for j in range(iterations):\n",
    "                #Check each training example\n",
    "                for i in range(len(x_train)):\n",
    "                    xi, yi = x_train[i], y_train[i]\n",
    "                    y_hat = self.predict(xi)\n",
    "                    # mistake\n",
    "                    if yi != y_hat:\n",
    "                        for feature in self.features:\n",
    "                            if feature in xi:\n",
    "                                self.w[feature] = self.w[feature] * alpha ** (yi*xi[feature])\n",
    "                            self.w_sum[feature] += self.w[feature]\n",
    "                    # No mistake\n",
    "                    else:\n",
    "                        for feature in self.features:\n",
    "                            self.w_sum[feature] += self.w[feature]\n",
    "                    cnt += 1\n",
    "            for feature in self.features:\n",
    "                self.w[feature] = self.w_sum[feature] / cnt  \n",
    "                        \n",
    "        elif algorithm == 'Adagrad-Avg':\n",
    "            #Initialize w, bias\n",
    "            self.w, self.w['bias'] = {feature:0.0 for feature in self.features}, 0.0\n",
    "            self.u, self.u['bias'] = {feature:0.0 for feature in self.features}, 0.0 \n",
    "            c = 1\n",
    "            \n",
    "            #Initialize G\n",
    "            G, G['bias'] = {feature:0.0 for feature in self.features}, 0\n",
    "            \n",
    "            #Iterate over the training data n times\n",
    "            for j in range(iterations):\n",
    "\n",
    "                for i in range(len(x_train)):\n",
    "                    xi, yi = x_train[i], y_train[i]\n",
    "                    #Update weight vector and bias when y*s<= 1.\n",
    "                    s = sum([self.w[feature]*value for feature, value in xi.items()]) + self.w['bias']\n",
    "                    if yi * s <= 1:\n",
    "                        for feature, value in xi.items():  \n",
    "                            G[feature] += (-yi * value) ** 2\n",
    "                            delta = eta * yi * value / (G[feature] ** 0.5)\n",
    "                            self.w[feature] += delta\n",
    "                            self.u[feature] += c * delta\n",
    "                        G['bias'] += (-yi) ** 2                        \n",
    "                        self.w['bias'] += eta * yi / (G['bias'] ** 0.5)\n",
    "                        self.u['bias'] += c * eta * yi / (G['bias'] ** 0.5)\n",
    "                    c += 1\n",
    "                    \n",
    "            # return averaged weights and bias\n",
    "            for feature in self.w:\n",
    "                self.w[feature] = self.w[feature] - self.u[feature] / c\n",
    "                    \n",
    "        elif algorithm == 'SVM':\n",
    "            v = DictVectorizer(sparse=True)\n",
    "            x_train_vectorized = v.fit_transform(x_train)\n",
    "            self.vectorizer = v\n",
    "            clf = LinearSVC(penalty='l2', loss='hinge')\n",
    "            self.svm = clf.fit(x_train_vectorized, y_train)\n",
    "            \n",
    "        else:\n",
    "            print('Unknown algorithm')\n",
    "                \n",
    "    def predict(self, x):\n",
    "        s = sum([self.w[feature]*value for feature, value in x.items()]) + self.w['bias']\n",
    "        return 1 if s > 0 else -1\n",
    "    \n",
    "    def predict_SVM(self, x):# x is a dictionary.\n",
    "        x = self.vectorizer.transform([x])\n",
    "        return self.svm.predict(x)[0]"
   ]
  },
  {
   "cell_type": "code",
   "execution_count": 4,
   "metadata": {},
   "outputs": [],
   "source": [
    "#Parse the real-world data to generate features, \n",
    "#Returns a list of tuple lists\n",
    "def parse_real_data(path):\n",
    "    #List of tuples for each sentence\n",
    "    data = []\n",
    "    for filename in os.listdir(path):\n",
    "        with open(path+filename, 'r') as file:\n",
    "            sentence = []\n",
    "            for line in file:\n",
    "                if line == '\\n':\n",
    "                    data.append(sentence)\n",
    "                    sentence = []\n",
    "                else:\n",
    "                    sentence.append(tuple(line.split()))\n",
    "    return data"
   ]
  },
  {
   "cell_type": "code",
   "execution_count": 5,
   "metadata": {},
   "outputs": [],
   "source": [
    "#Returns a list of labels\n",
    "def parse_synthetic_labels(path):\n",
    "    #List of tuples for each sentence\n",
    "    labels = []\n",
    "    with open(path+'y.txt', 'rb') as file:\n",
    "        for line in file:\n",
    "            labels.append(int(line.strip()))\n",
    "    return labels"
   ]
  },
  {
   "cell_type": "code",
   "execution_count": 6,
   "metadata": {},
   "outputs": [],
   "source": [
    "#Returns a list of features\n",
    "def parse_synthetic_data(path):\n",
    "    #List of tuples for each sentence\n",
    "    data = []\n",
    "    with open(path+'x.txt') as file:\n",
    "        features = []\n",
    "        for line in file:\n",
    "            #print('Line:', line)\n",
    "            for ch in line:\n",
    "                if ch == '[' or ch.isspace():\n",
    "                    continue\n",
    "                elif ch == ']':\n",
    "                    data.append(features)\n",
    "                    features = []\n",
    "                else:\n",
    "                    features.append(int(ch))\n",
    "    return data"
   ]
  },
  {
   "cell_type": "code",
   "execution_count": 7,
   "metadata": {},
   "outputs": [],
   "source": [
    "def extract_features_train(news_train_data):\n",
    "    news_train_y = []\n",
    "    news_train_x = []\n",
    "    train_features = set([])\n",
    "    for sentence in news_train_data:\n",
    "        padded = sentence[:]\n",
    "        padded.insert(0, ('SSS', None))\n",
    "        padded.insert(0, ('SSS', None))\n",
    "        padded.insert(0, ('SSS', None))\n",
    "        padded.append(('EEE', None))\n",
    "        padded.append(('EEE', None))\n",
    "        padded.append(('EEE', None))\n",
    "        for i in range(3,len(padded)-3):\n",
    "            news_train_y.append(1 if padded[i][1]=='I' else -1)\n",
    "            feat1 = 'w-1='+str(padded[i-1][0])\n",
    "            feat2 = 'w+1='+str(padded[i+1][0])\n",
    "            feat3 = 'w-2='+str(padded[i-2][0])\n",
    "            feat4 = 'w+2='+str(padded[i+2][0])\n",
    "            feat5 = 'w-3='+str(padded[i-3][0])\n",
    "            feat6 = 'w+3='+str(padded[i+3][0])\n",
    "            feat7 = 'w-1&w-2='+str(padded[i-1][0])+' '+str(padded[i-2][0])\n",
    "            feat8 = 'w+1&w+2='+str(padded[i+1][0])+' '+str(padded[i+2][0])\n",
    "            feat9 = 'w-1&w+1='+str(padded[i+1][0])+' '+str(padded[i-1][0])\n",
    "            feats = [feat1, feat2, feat3, feat4, feat5, feat6, feat7, feat8, feat9]\n",
    "            train_features.update(feats)  #!\n",
    "            feats = {feature:1 for feature in feats} #!\n",
    "            news_train_x.append(feats)\n",
    "    return train_features, news_train_x, news_train_y"
   ]
  },
  {
   "cell_type": "code",
   "execution_count": null,
   "metadata": {
    "scrolled": true
   },
   "outputs": [],
   "source": []
  },
  {
   "cell_type": "code",
   "execution_count": 8,
   "metadata": {},
   "outputs": [],
   "source": [
    "def extract_features_dev(news_dev_data, train_features): # for evaluation\n",
    "    news_dev_y = []\n",
    "    news_dev_x = []\n",
    "    for sentence in news_dev_data:\n",
    "        padded = sentence[:]\n",
    "        padded.insert(0, ('SSS', None))\n",
    "        padded.insert(0, ('SSS', None))\n",
    "        padded.insert(0, ('SSS', None))\n",
    "        padded.append(('EEE', None))\n",
    "        padded.append(('EEE', None))\n",
    "        padded.append(('EEE', None))\n",
    "        for i in range(3,len(padded)-3):\n",
    "            news_dev_y.append(1 if padded[i][1]=='I' else -1)\n",
    "            feat1 = 'w-1='+str(padded[i-1][0])\n",
    "            feat2 = 'w+1='+str(padded[i+1][0])\n",
    "            feat3 = 'w-2='+str(padded[i-2][0])\n",
    "            feat4 = 'w+2='+str(padded[i+2][0])\n",
    "            feat5 = 'w-3='+str(padded[i-3][0])\n",
    "            feat6 = 'w+3='+str(padded[i+3][0])\n",
    "            feat7 = 'w-1&w-2='+str(padded[i-1][0])+' '+str(padded[i-2][0])\n",
    "            feat8 = 'w+1&w+2='+str(padded[i+1][0])+' '+str(padded[i+2][0])\n",
    "            feat9 = 'w-1&w+1='+str(padded[i+1][0])+' '+str(padded[i-1][0])\n",
    "            feats = [feat1, feat2, feat3, feat4, feat5, feat6, feat7, feat8, feat9]\n",
    "            feats = {feature:1 for feature in feats if feature in train_features}#!\n",
    "            news_dev_x.append(feats)\n",
    "    return news_dev_x, news_dev_y"
   ]
  },
  {
   "cell_type": "code",
   "execution_count": 9,
   "metadata": {},
   "outputs": [],
   "source": [
    "def extract_features_test(test_data, train_features): \n",
    "    test_x = []\n",
    "    for sentence in test_data:\n",
    "        padded = sentence[:]\n",
    "        padded.insert(0, ('SSS', None))\n",
    "        padded.insert(0, ('SSS', None))\n",
    "        padded.insert(0, ('SSS', None))\n",
    "        padded.append(('EEE', None))\n",
    "        padded.append(('EEE', None))\n",
    "        padded.append(('EEE', None))\n",
    "        for i in range(3,len(padded)-3):\n",
    "            feat1 = 'w-1='+str(padded[i-1][0])\n",
    "            feat2 = 'w+1='+str(padded[i+1][0])\n",
    "            feat3 = 'w-2='+str(padded[i-2][0])\n",
    "            feat4 = 'w+2='+str(padded[i+2][0])\n",
    "            feat5 = 'w-3='+str(padded[i-3][0])\n",
    "            feat6 = 'w+3='+str(padded[i+3][0])\n",
    "            feat7 = 'w-1&w-2='+str(padded[i-1][0])+' '+str(padded[i-2][0])\n",
    "            feat8 = 'w+1&w+2='+str(padded[i+1][0])+' '+str(padded[i+2][0])\n",
    "            feat9 = 'w-1&w+1='+str(padded[i+1][0])+' '+str(padded[i-1][0])\n",
    "            feats = [feat1, feat2, feat3, feat4, feat5, feat6, feat7, feat8, feat9]\n",
    "            feats = {feature:1 for feature in feats if feature in train_features}#!\n",
    "            test_x.append(feats)\n",
    "    return test_x"
   ]
  },
  {
   "cell_type": "code",
   "execution_count": 10,
   "metadata": {
    "scrolled": true
   },
   "outputs": [
    {
     "name": "stdout",
     "output_type": "stream",
     "text": [
      "Loading data...\n",
      "Data Loaded.\n"
     ]
    }
   ],
   "source": [
    "print('Loading data...')\n",
    "#Load data from folders.\n",
    "#Real world data - lists of tuple lists\n",
    "news_train_data = parse_real_data('Data/Real-World/CoNLL/Train/')\n",
    "news_dev_data = parse_real_data('Data/Real-World/CoNLL/Dev/')\n",
    "news_test_data = parse_real_data('Data/Real-World/CoNLL/Test/')\n",
    "email_dev_data = parse_real_data('Data/Real-World/Enron/Dev/')\n",
    "email_test_data = parse_real_data('Data/Real-World/Enron/Test/')\n",
    "\n",
    "#Load dense synthetic data\n",
    "syn_dense_train_data = parse_synthetic_data('Data/Synthetic/Dense/Train/')\n",
    "syn_dense_train_labels = parse_synthetic_labels('Data/Synthetic/Dense/Train/')\n",
    "syn_dense_dev_data = parse_synthetic_data('Data/Synthetic/Dense/Dev/')\n",
    "syn_dense_dev_labels = parse_synthetic_labels('Data/Synthetic/Dense/Dev/')\n",
    "syn_dense_dev_no_noise_data = parse_synthetic_data('Data/Synthetic/Dense/Dev_no_noise/')\n",
    "syn_dense_dev_no_noise_labels = parse_synthetic_labels('Data/Synthetic/Dense/Dev_no_noise/')\n",
    "syn_dense_test_data = parse_synthetic_data('Data/Synthetic/Dense/Test/')\n",
    "\n",
    "\n",
    "#Load sparse synthetic data\n",
    "syn_sparse_train_data = parse_synthetic_data('Data/Synthetic/Sparse/Train/')\n",
    "syn_sparse_train_labels = parse_synthetic_labels('Data/Synthetic/Sparse/Train/')\n",
    "syn_sparse_dev_data = parse_synthetic_data('Data/Synthetic/Sparse/Dev/')\n",
    "syn_sparse_dev_labels = parse_synthetic_labels('Data/Synthetic/Sparse/Dev/')\n",
    "syn_sparse_test_data = parse_synthetic_data('Data/Synthetic/Sparse/Test/')\n",
    "\n",
    "print('Data Loaded.')"
   ]
  },
  {
   "cell_type": "code",
   "execution_count": 12,
   "metadata": {},
   "outputs": [
    {
     "name": "stdout",
     "output_type": "stream",
     "text": [
      "Converting Synthetic data...\n",
      "Done\n"
     ]
    }
   ],
   "source": [
    "# Convert to sparse dictionary representations.\n",
    "\n",
    "print('Converting Synthetic data...')\n",
    "syn_dense_train = zip(*[  ({'x'+str(i): syn_dense_train_data[j][i]\n",
    "    for i in range(len(syn_dense_train_data[j])) if syn_dense_train_data[j][i] == 1}, syn_dense_train_labels[j]) \n",
    "        for j in range(len(syn_dense_train_data))]  ) # j: row\n",
    "\n",
    "syn_dense_train_x, syn_dense_train_y = syn_dense_train\n",
    "\n",
    "syn_dense_dev = zip(*[({'x'+str(i): syn_dense_dev_data[j][i]\n",
    "    for i in range(len(syn_dense_dev_data[j])) if syn_dense_dev_data[j][i] == 1}, syn_dense_dev_labels[j]) \n",
    "        for j in range(len(syn_dense_dev_data))])\n",
    "\n",
    "syn_dense_dev_x, syn_dense_dev_y = syn_dense_dev\n",
    "\n",
    "## Similarly add code for the dev set with no noise and sparse data\n",
    "\n",
    "# Dense - dev with no noise\n",
    "syn_dense_no_noise = zip(*[({'x'+str(i): syn_dense_dev_no_noise_data[j][i]\n",
    "    for i in range(len(syn_dense_dev_no_noise_data[j])) if syn_dense_dev_no_noise_data[j][i] == 1}, syn_dense_dev_no_noise_labels[j]) \n",
    "        for j in range(len(syn_dense_dev_no_noise_data))]  ) # j: row\n",
    "syn_dense_dev_no_noise_x, syn_dense_dev_no_noise_y = syn_dense_no_noise\n",
    "\n",
    "# Sparse - train\n",
    "syn_sparse_train = zip(*[  ({'x'+str(i): syn_sparse_train_data[j][i]\n",
    "    for i in range(len(syn_sparse_train_data[j])) if syn_sparse_train_data[j][i] == 1}, syn_sparse_train_labels[j]) \n",
    "        for j in range(len(syn_sparse_train_data))]  )\n",
    "\n",
    "syn_sparse_train_x, syn_sparse_train_y = syn_sparse_train\n",
    "\n",
    "# Sparse - dev\n",
    "syn_sparse_dev = zip(*[({'x'+str(i): syn_sparse_dev_data[j][i]\n",
    "    for i in range(len(syn_sparse_dev_data[j])) if syn_sparse_dev_data[j][i] == 1}, syn_sparse_dev_labels[j]) \n",
    "        for j in range(len(syn_sparse_dev_data))])\n",
    "\n",
    "syn_sparse_dev_x, syn_sparse_dev_y = syn_sparse_dev\n",
    "\n",
    "\n",
    "\n",
    "print('Done')"
   ]
  },
  {
   "cell_type": "code",
   "execution_count": 13,
   "metadata": {
    "scrolled": true
   },
   "outputs": [],
   "source": [
    "# Sparse - Test\n",
    "syn_sparse_test = [{'x'+str(i): syn_sparse_test_data[j][i] for i in range(len(syn_sparse_test_data[j])) if syn_sparse_test_data[j][i] == 1}\n",
    "                   for j in range(len(syn_sparse_dev_data))]\n",
    "# Dense - Test\n",
    "syn_dense_test = [{'x'+str(i): syn_dense_test_data[j][i] for i in range(len(syn_dense_test_data[j])) if syn_dense_test_data[j][i] == 1}\n",
    "                   for j in range(len(syn_dense_dev_data))]"
   ]
  },
  {
   "cell_type": "code",
   "execution_count": 14,
   "metadata": {},
   "outputs": [
    {
     "name": "stdout",
     "output_type": "stream",
     "text": [
      "Extracting features from real-world data...\n"
     ]
    }
   ],
   "source": [
    "# Feature extraction( we don't need to extract feature for synthetic data)\n",
    "## Remember to add the other features mentioned in the handout\n",
    "print('Extracting features from real-world data...')\n",
    "train_features, news_train_x, news_train_y = extract_features_train(news_train_data)\n",
    "news_dev_x, news_dev_y = extract_features_dev(news_dev_data, train_features)\n",
    "\n"
   ]
  },
  {
   "cell_type": "code",
   "execution_count": null,
   "metadata": {},
   "outputs": [],
   "source": []
  },
  {
   "cell_type": "code",
   "execution_count": 15,
   "metadata": {},
   "outputs": [],
   "source": [
    "# Feature extraction -  real test data\n",
    "news_test_x = extract_features_test(news_test_data, train_features)\n",
    "email_test_x = extract_features_test(email_test_data, train_features)"
   ]
  },
  {
   "cell_type": "code",
   "execution_count": 16,
   "metadata": {},
   "outputs": [
    {
     "name": "stdout",
     "output_type": "stream",
     "text": [
      "Extracting features from real-world Email Dev data...\n"
     ]
    }
   ],
   "source": [
    "print('Extracting features from real-world Email Dev data...')\n",
    "\n",
    "email_dev_x, email_dev_y = extract_features_dev(email_dev_data, train_features)"
   ]
  },
  {
   "cell_type": "code",
   "execution_count": 17,
   "metadata": {},
   "outputs": [],
   "source": [
    "def get_accurancy(x, y, clf):\n",
    "    return sum([1 for i in range(len(y)) if clf.predict(x[i]) == y[i]])/len(x)*100"
   ]
  },
  {
   "cell_type": "code",
   "execution_count": 18,
   "metadata": {},
   "outputs": [],
   "source": [
    "def get_accurancy_svm(x, y, clf):\n",
    "    return sum([1 for i in range(len(y)) if clf.predict_SVM(x[i]) == y[i]])/len(x)*100"
   ]
  },
  {
   "cell_type": "code",
   "execution_count": 19,
   "metadata": {},
   "outputs": [
    {
     "name": "stdout",
     "output_type": "stream",
     "text": [
      "\n",
      "1 Perceptron Accuracy\n",
      "Syn Dense Train Accuracy: 88.79\n",
      "Syn Dense Dev Accuracy: 88.23\n",
      "Syn Dense Without Noise Accuracy: 93.47\n",
      "Syn Sparse Train Accuracy: 74.512\n",
      "Syn Sparse Dev Accuracy: 74.69\n"
     ]
    }
   ],
   "source": [
    "print('\\n1 Perceptron Accuracy')\n",
    "# Test Perceptron on Dense Synthetic\n",
    "p = Classifier('Perceptron', syn_dense_train_x, syn_dense_train_y, iterations=10)\n",
    "accuracy_train = get_accurancy(syn_dense_train_x, syn_dense_train_y, p)\n",
    "print('Syn Dense Train Accuracy:', accuracy_train)\n",
    "\n",
    "accuracy_dev= get_accurancy(syn_dense_dev_x, syn_dense_dev_y, p)\n",
    "print('Syn Dense Dev Accuracy:', accuracy_dev)\n",
    "\n",
    "accuracy_dev_no_noise= get_accurancy(syn_dense_dev_no_noise_x, syn_dense_dev_no_noise_y, p)\n",
    "print('Syn Dense Without Noise Accuracy:', accuracy_dev_no_noise)\n",
    "\n",
    "\n",
    "# Test Perceptron on Sparse Synthetic\n",
    "p = Classifier('Perceptron', syn_sparse_train_x, syn_sparse_train_y, iterations=10)\n",
    "accuracy_train = get_accurancy(syn_sparse_train_x, syn_sparse_train_y, p)\n",
    "print('Syn Sparse Train Accuracy:', accuracy_train)\n",
    "\n",
    "accuracy_dev= get_accurancy(syn_sparse_dev_x, syn_sparse_dev_y, p)\n",
    "print('Syn Sparse Dev Accuracy:', accuracy_dev)"
   ]
  },
  {
   "cell_type": "code",
   "execution_count": 20,
   "metadata": {},
   "outputs": [
    {
     "name": "stdout",
     "output_type": "stream",
     "text": [
      "\n",
      "2 Winnow Accuracy\n",
      "Syn Dense Train Accuracy: 89.53\n",
      "Syn Dense Dev Accuracy: 89.21\n",
      "Syn Dense Without Noise Accuracy: 89.21\n",
      "Syn Sparse Train Accuracy: 82.726\n",
      "Syn Sparse Dev Accuracy: 82.66\n"
     ]
    }
   ],
   "source": [
    "print('\\n2 Winnow Accuracy')\n",
    "# Test Winnow on Dense Synthetic\n",
    "w = Classifier('Winnow', syn_dense_train_x, syn_dense_train_y, iterations=10)\n",
    "accuracy_train = get_accurancy(syn_dense_train_x, syn_dense_train_y, w)\n",
    "print('Syn Dense Train Accuracy:', accuracy_train)\n",
    "\n",
    "accuracy_dev= get_accurancy(syn_dense_dev_x, syn_dense_dev_y, w)\n",
    "print('Syn Dense Dev Accuracy:', accuracy_dev)\n",
    "\n",
    "accuracy_dev_no_noise= get_accurancy(syn_dense_dev_no_noise_x, syn_dense_dev_no_noise_y, w)\n",
    "print('Syn Dense Without Noise Accuracy:', accuracy_dev)\n",
    "\n",
    "# Test Winnow on Sparse Synthetic\n",
    "w = Classifier('Winnow', syn_sparse_train_x, syn_sparse_train_y, iterations=10)\n",
    "accuracy_train = get_accurancy(syn_sparse_train_x, syn_sparse_train_y, w)\n",
    "print('Syn Sparse Train Accuracy:', accuracy_train)\n",
    "\n",
    "accuracy_dev= get_accurancy(syn_sparse_dev_x, syn_sparse_dev_y, w)\n",
    "print('Syn Sparse Dev Accuracy:', accuracy_dev)"
   ]
  },
  {
   "cell_type": "code",
   "execution_count": 21,
   "metadata": {},
   "outputs": [
    {
     "name": "stdout",
     "output_type": "stream",
     "text": [
      "\n",
      "3 Adagrad Accuracy\n",
      "Syn Dense Train Accuracy: 94.58800000000001\n",
      "Syn Dense Dev Accuracy: 94.19999999999999\n",
      "Syn Dense Without Noise Accuracy: 94.19999999999999\n",
      "Syn Sparse Train Accuracy: 94.592\n",
      "Syn Sparse Dev Accuracy: 94.49\n"
     ]
    }
   ],
   "source": [
    "print('\\n3 Adagrad Accuracy')\n",
    "# Test Adagrad on Dense Synthetic\n",
    "a = Classifier('Adagrad', syn_dense_train_x, syn_dense_train_y, iterations=10)\n",
    "accuracy_train = get_accurancy(syn_dense_train_x, syn_dense_train_y, a)\n",
    "print('Syn Dense Train Accuracy:', accuracy_train)\n",
    "\n",
    "accuracy_dev= get_accurancy(syn_dense_dev_x, syn_dense_dev_y, a)\n",
    "print('Syn Dense Dev Accuracy:', accuracy_dev)\n",
    "\n",
    "accuracy_dev_no_noise= get_accurancy(syn_dense_dev_no_noise_x, syn_dense_dev_no_noise_y, a)\n",
    "print('Syn Dense Without Noise Accuracy:', accuracy_dev)\n",
    "\n",
    "\n",
    "# Test Adagrad on Sparse Synthetic\n",
    "a = Classifier('Adagrad', syn_sparse_train_x, syn_sparse_train_y, iterations=10)\n",
    "accuracy_train = get_accurancy(syn_sparse_train_x, syn_sparse_train_y, a)\n",
    "print('Syn Sparse Train Accuracy:', accuracy_train)\n",
    "\n",
    "accuracy_dev= get_accurancy(syn_sparse_dev_x, syn_sparse_dev_y, a)\n",
    "print('Syn Sparse Dev Accuracy:', accuracy_dev)"
   ]
  },
  {
   "cell_type": "code",
   "execution_count": 22,
   "metadata": {},
   "outputs": [
    {
     "name": "stdout",
     "output_type": "stream",
     "text": [
      "\n",
      "4 Perceptron averaged Accuracy\n",
      "Syn Dense Train Accuracy: 94.58800000000001\n",
      "Syn Dense Dev Accuracy: 94.19999999999999\n",
      "Syn Dense Without Noise Accuracy: 94.19999999999999\n",
      "Syn Sparse Train Accuracy: 94.592\n",
      "Syn Sparse Dev Accuracy: 94.49\n"
     ]
    }
   ],
   "source": [
    "print('\\n4 Perceptron averaged Accuracy')\n",
    "# Test Perceptron averaged on Dense Synthetic\n",
    "p_avg = Classifier('Perceptron-Avg', syn_dense_train_x, syn_dense_train_y, iterations=10, averaged = True)\n",
    "accuracy_train = get_accurancy(syn_dense_train_x, syn_dense_train_y, p_avg)\n",
    "print('Syn Dense Train Accuracy:', accuracy_train)\n",
    "\n",
    "accuracy_dev= get_accurancy(syn_dense_dev_x, syn_dense_dev_y, p_avg)\n",
    "print('Syn Dense Dev Accuracy:', accuracy_dev)\n",
    "\n",
    "accuracy_dev_no_noise= get_accurancy(syn_dense_dev_no_noise_x, syn_dense_dev_no_noise_y, p_avg)\n",
    "print('Syn Dense Without Noise Accuracy:', accuracy_dev)\n",
    "\n",
    "# Test Perceptron averaged on Sparse Synthetic\n",
    "p_avg = Classifier('Perceptron-Avg', syn_sparse_train_x, syn_sparse_train_y, iterations=10, averaged = True)\n",
    "accuracy_train = get_accurancy(syn_sparse_train_x, syn_sparse_train_y, p_avg)\n",
    "print('Syn Sparse Train Accuracy:', accuracy_train)\n",
    "\n",
    "accuracy_dev= get_accurancy(syn_sparse_dev_x, syn_sparse_dev_y, p_avg)\n",
    "print('Syn Sparse Dev Accuracy:', accuracy_dev)"
   ]
  },
  {
   "cell_type": "code",
   "execution_count": 23,
   "metadata": {},
   "outputs": [
    {
     "name": "stdout",
     "output_type": "stream",
     "text": [
      "\n",
      "5 Winnow averaged Accuracy\n",
      "Syn Dense Train Accuracy: 94.58800000000001\n",
      "Syn Dense Dev Accuracy: 94.19999999999999\n",
      "Syn Dense Without Noise Accuracy: 94.19999999999999\n",
      "Syn Sparse Train Accuracy: 94.592\n",
      "Syn Sparse Dev Accuracy: 94.49\n"
     ]
    }
   ],
   "source": [
    "print('\\n5 Winnow averaged Accuracy')\n",
    "# Test Winnow averaged on Dense Synthetic\n",
    "w_avg = Classifier('Winnow-Avg', syn_dense_train_x, syn_dense_train_y, iterations=10, averaged = True, alpha = 1.1)\n",
    "accuracy_train = get_accurancy(syn_dense_train_x, syn_dense_train_y, w_avg)\n",
    "print('Syn Dense Train Accuracy:', accuracy_train)\n",
    "\n",
    "accuracy_dev= get_accurancy(syn_dense_dev_x, syn_dense_dev_y, w_avg)\n",
    "print('Syn Dense Dev Accuracy:', accuracy_dev)\n",
    "\n",
    "\n",
    "accuracy_dev_no_noise= get_accurancy(syn_dense_dev_no_noise_x, syn_dense_dev_no_noise_y, w_avg)\n",
    "print('Syn Dense Without Noise Accuracy:', accuracy_dev)\n",
    "\n",
    "# Test Winnow averaged on Sparse Synthetic\n",
    "w_avg = Classifier('Winnow-Avg', syn_sparse_train_x, syn_sparse_train_y, iterations=10, averaged = True, alpha = 1.1)\n",
    "accuracy_train = get_accurancy(syn_sparse_train_x, syn_sparse_train_y, w_avg)\n",
    "print('Syn Sparse Train Accuracy:', accuracy_train)\n",
    "\n",
    "accuracy_dev= get_accurancy(syn_sparse_dev_x, syn_sparse_dev_y, w_avg)\n",
    "print('Syn Sparse Dev Accuracy:', accuracy_dev)"
   ]
  },
  {
   "cell_type": "code",
   "execution_count": 24,
   "metadata": {},
   "outputs": [
    {
     "name": "stdout",
     "output_type": "stream",
     "text": [
      "\n",
      "6 Adagrad averaged Accuracy\n",
      "Syn Dense Train Accuracy: 94.58800000000001\n",
      "Syn Dense Dev Accuracy: 94.19999999999999\n",
      "Syn Dense Without Noise Accuracy: 94.19999999999999\n",
      "Syn Sparse Train Accuracy: 94.52199999999999\n",
      "Syn Sparse Dev Accuracy: 94.45\n"
     ]
    }
   ],
   "source": [
    "print('\\n6 Adagrad averaged Accuracy')\n",
    "# Test Adagrad averaged on Dense Synthetic\n",
    "a_avg = Classifier('Adagrad-Avg', syn_dense_train_x, syn_dense_train_y, iterations=10, averaged = True)\n",
    "accuracy_train = get_accurancy(syn_dense_train_x, syn_dense_train_y, a_avg)\n",
    "print('Syn Dense Train Accuracy:', accuracy_train)\n",
    "\n",
    "accuracy_dev= get_accurancy(syn_dense_dev_x, syn_dense_dev_y, a_avg)\n",
    "print('Syn Dense Dev Accuracy:', accuracy_dev)\n",
    "\n",
    "accuracy_dev_no_noise= get_accurancy(syn_dense_dev_no_noise_x, syn_dense_dev_no_noise_y, a_avg)\n",
    "print('Syn Dense Without Noise Accuracy:', accuracy_dev)\n",
    "\n",
    "# Test Adagrad averaged on Sparse Synthetic\n",
    "a_avg = Classifier('Adagrad-Avg', syn_sparse_train_x, syn_sparse_train_y, iterations=10, averaged = True)\n",
    "accuracy_train = get_accurancy(syn_sparse_train_x, syn_sparse_train_y, a_avg)\n",
    "print('Syn Sparse Train Accuracy:', accuracy_train)\n",
    "\n",
    "accuracy_dev= get_accurancy(syn_sparse_dev_x, syn_sparse_dev_y, a_avg)\n",
    "print('Syn Sparse Dev Accuracy:', accuracy_dev)"
   ]
  },
  {
   "cell_type": "code",
   "execution_count": 25,
   "metadata": {},
   "outputs": [
    {
     "name": "stdout",
     "output_type": "stream",
     "text": [
      "\n",
      "7 SVM Accuracy\n",
      "Syn Dense Train Accuracy: 94.58800000000001\n",
      "Syn Dense Dev Accuracy: 94.19999999999999\n",
      "Syn Dense Without Noise Accuracy: 94.19999999999999\n",
      "Syn Sparse Train Accuracy: 94.592\n",
      "Syn Sparse Dev Accuracy: 94.49\n"
     ]
    }
   ],
   "source": [
    "print('\\n7 SVM Accuracy')\n",
    "# Test  SVM on Dense Synthetic\n",
    "s = Classifier('SVM', syn_dense_train_x, syn_dense_train_y, iterations=10)\n",
    "accuracy_train = get_accurancy_svm(syn_dense_train_x, syn_dense_train_y, s)\n",
    "print('Syn Dense Train Accuracy:', accuracy_train)\n",
    "\n",
    "accuracy_dev= get_accurancy_svm(syn_dense_dev_x, syn_dense_dev_y, s)\n",
    "print('Syn Dense Dev Accuracy:', accuracy_dev)\n",
    "\n",
    "accuracy_dev_no_noise= get_accurancy_svm(syn_dense_dev_no_noise_x, syn_dense_dev_no_noise_y, s)\n",
    "print('Syn Dense Without Noise Accuracy:', accuracy_dev)\n",
    "\n",
    "# Test SVM on Sparse Synthetic\n",
    "s = Classifier('SVM', syn_sparse_train_x, syn_sparse_train_y, iterations=10)\n",
    "accuracy_train = get_accurancy_svm(syn_sparse_train_x, syn_sparse_train_y, s)\n",
    "print('Syn Sparse Train Accuracy:', accuracy_train)\n",
    "\n",
    "accuracy_dev= get_accurancy_svm(syn_sparse_dev_x, syn_sparse_dev_y, s)\n",
    "print('Syn Sparse Dev Accuracy:', accuracy_dev)"
   ]
  },
  {
   "cell_type": "code",
   "execution_count": 26,
   "metadata": {},
   "outputs": [
    {
     "name": "stdout",
     "output_type": "stream",
     "text": [
      "\n",
      "Perceptron Averaged F1\n",
      "Perceptron Averaged Train F1 CONLL: 0.9699896617929404\n",
      "Perceptron Averaged Dev F1 CONLL: 0.8111587982832618\n"
     ]
    }
   ],
   "source": [
    "print('\\nPerceptron Averaged F1')\n",
    "# Test Perceptron averaged on News Data\n",
    "p_avg = Classifier('Perceptron-Avg', news_train_x, news_train_y, iterations=10, averaged=True)\n",
    "\n",
    "predicted_labels = []\n",
    "for i in range(len(news_train_x)):\n",
    "    predicted_labels.append(p_avg.predict(news_train_x[i]))\n",
    "    \n",
    "train_news_F1 = calc_f1(news_train_y, predicted_labels)\n",
    "print('Perceptron Averaged Train F1 CONLL:', train_news_F1[2])\n",
    "\n",
    "predicted_labels = []\n",
    "for i in range(len(news_dev_x)):\n",
    "    predicted_labels.append(p_avg.predict(news_dev_x[i]))\n",
    "    \n",
    "dev_news_F1 = calc_f1(news_dev_y, predicted_labels)\n",
    "print('Perceptron Averaged Dev F1 CONLL:', dev_news_F1[2])\n"
   ]
  },
  {
   "cell_type": "code",
   "execution_count": 27,
   "metadata": {},
   "outputs": [
    {
     "name": "stdout",
     "output_type": "stream",
     "text": [
      "\n",
      "Perceptron Averaged F1\n",
      "Perceptron Averaged Dev F1 Enron: 0.22535211267605634\n"
     ]
    }
   ],
   "source": [
    "print('\\nPerceptron Averaged F1')\n",
    "# Test Perceptron averaged on Email Data\n",
    "# email_dev_x, email_dev_y\n",
    "predicted_labels = []\n",
    "for i in range(len(email_dev_x)):\n",
    "    predicted_labels.append(p_avg.predict(email_dev_x[i]))\n",
    "    \n",
    "dev_email_F1 = calc_f1(email_dev_y, predicted_labels)\n",
    "print('Perceptron Averaged Dev F1 Enron:', dev_email_F1[2])\n"
   ]
  },
  {
   "cell_type": "code",
   "execution_count": 28,
   "metadata": {},
   "outputs": [
    {
     "name": "stdout",
     "output_type": "stream",
     "text": [
      "\n",
      "SVM F1\n",
      "SVM Train F1 CONLL: 0.9890106643821454\n",
      "SVM Dev F1 CONLL: 0.827823691460055\n"
     ]
    }
   ],
   "source": [
    "print('\\nSVM F1')\n",
    "# Test SVM on News Data\n",
    "s = Classifier('SVM', news_train_x, news_train_y, iterations=10)\n",
    "\n",
    "predicted_labels = []\n",
    "for i in range(len(news_train_x)):\n",
    "    predicted_labels.append(s.predict_SVM(news_train_x[i]))\n",
    "    \n",
    "train_news_F1 = calc_f1(news_train_y, predicted_labels)\n",
    "print('SVM Train F1 CONLL:', train_news_F1[2])\n",
    "\n",
    "\n",
    "\n",
    "predicted_labels = []\n",
    "for i in range(len(news_dev_x)):\n",
    "    predicted_labels.append(s.predict_SVM(news_dev_x[i]))\n",
    "    \n",
    "dev_news_F1 = calc_f1(news_dev_y, predicted_labels)\n",
    "print('SVM Dev F1 CONLL:', dev_news_F1[2])"
   ]
  },
  {
   "cell_type": "code",
   "execution_count": 29,
   "metadata": {
    "scrolled": true
   },
   "outputs": [
    {
     "name": "stdout",
     "output_type": "stream",
     "text": [
      "\n",
      "SVM Averaged F1\n",
      "SVM Dev F1 Enron: 0.24068157614483493\n"
     ]
    }
   ],
   "source": [
    "print('\\nSVM Averaged F1')\n",
    "# Test SVM on Email Data\n",
    "predicted_labels = []\n",
    "for i in range(len(email_dev_x)):\n",
    "    predicted_labels.append(s.predict_SVM(email_dev_x[i]))\n",
    "    \n",
    "dev_email_F1 = calc_f1(email_dev_y, predicted_labels)\n",
    "print('SVM Dev F1 Enron:', dev_email_F1[2])\n"
   ]
  },
  {
   "cell_type": "code",
   "execution_count": 30,
   "metadata": {},
   "outputs": [
    {
     "name": "stdout",
     "output_type": "stream",
     "text": [
      "\n",
      "Winnow Tunning -  Alpha\n",
      "best_alpha_dense =  1.0005\n",
      "best_alpha_sparse =  1.005\n"
     ]
    }
   ],
   "source": [
    "# Parameter Tunning For Winnow on Syn-Dense\n",
    "print('\\nWinnow Tunning -  Alpha')\n",
    "alphas = [1.1, 1.01, 1.005, 1.0005, 1.0001]\n",
    "max_dev_accurancy = 0\n",
    "for i in range(len(alphas)):\n",
    "    a = alphas[i]\n",
    "    w = Classifier('Winnow', syn_dense_train_x, syn_dense_train_y, iterations=10, alpha = a)\n",
    "    accuracy_dev= get_accurancy(syn_dense_dev_x, syn_dense_dev_y, w)\n",
    "    if max_dev_accurancy < accuracy_dev:\n",
    "        max_dev_accurancy = accuracy_dev\n",
    "        best_alpha_dense = a\n",
    "print(\"best_alpha_dense = \",best_alpha_dense)    \n",
    "\n",
    "max_dev_accurancy = 0\n",
    "for i in range(len(alphas)):\n",
    "    a = alphas[i]\n",
    "    w = Classifier('Winnow', syn_sparse_train_x, syn_sparse_train_y, iterations=10, alpha = a)\n",
    "    accuracy_dev= get_accurancy(syn_sparse_dev_x, syn_sparse_dev_y, w)\n",
    "    if max_dev_accurancy < accuracy_dev:\n",
    "        max_dev_accurancy = accuracy_dev\n",
    "        best_alpha_sparse = a\n",
    "print(\"best_alpha_sparse = \",best_alpha_sparse)    \n"
   ]
  },
  {
   "cell_type": "code",
   "execution_count": 31,
   "metadata": {},
   "outputs": [
    {
     "name": "stdout",
     "output_type": "stream",
     "text": [
      "\n",
      "Aadgrad  Tunning Eta\n",
      "best_eta_dense =  1.5\n",
      "best_eta_sparse =  1.5\n"
     ]
    }
   ],
   "source": [
    "print('\\nAadgrad  Tunning Eta')\n",
    "etas = [1.5, 0.25, 0.03, 0.05, 0.001]\n",
    "max_dev_accurancy = 0\n",
    "for e in etas:\n",
    "    a = Classifier('Adagrad', syn_dense_train_x, syn_dense_train_y, iterations=10, eta = e)\n",
    "    accuracy_dev= get_accurancy(syn_dense_dev_x, syn_dense_dev_y, a)\n",
    "    if max_dev_accurancy < accuracy_dev:\n",
    "        max_dev_accurancy = accuracy_dev\n",
    "        best_eta_dense = e\n",
    "print(\"best_eta_dense = \", best_eta_dense) \n",
    "\n",
    "max_dev_accurancy = 0\n",
    "for e in etas:\n",
    "    a = Classifier('Adagrad', syn_sparse_train_x, syn_sparse_train_y, iterations=10, eta = e)\n",
    "    accuracy_dev= get_accurancy(syn_sparse_dev_x, syn_sparse_dev_y, a)\n",
    "    if max_dev_accurancy < accuracy_dev:\n",
    "        max_dev_accurancy = accuracy_dev\n",
    "        best_eta_sparse = e\n",
    "print(\"best_eta_sparse = \",best_eta_sparse)   "
   ]
  },
  {
   "cell_type": "code",
   "execution_count": 32,
   "metadata": {},
   "outputs": [],
   "source": [
    "nums = [500 ,1000, 1500, 2000, 2500, 3000, 3500, 4000, 4500, 5000, 50000]\n",
    "def learning_curve(clf_name, train_x, train_y, dev_x, dev_y, nums):\n",
    "    res = []\n",
    "    for num in nums:\n",
    "        clf = Classifier(clf_name, train_x[:num], train_y[:num], iterations=10)\n",
    "        accuracy= get_accurancy(dev_x, dev_y, clf)\n",
    "        res.append(accuracy)\n",
    "    return res    \n",
    "def learning_curve_SVM(clf_name, train_x, train_y, dev_x, dev_y, nums):\n",
    "    res = []\n",
    "    for num in nums:\n",
    "        clf = Classifier(clf_name, train_x[:num], train_y[:num], iterations=10)\n",
    "        accuracy= get_accurancy_svm(dev_x, dev_y, clf)\n",
    "        res.append(accuracy)\n",
    "    return res    "
   ]
  },
  {
   "cell_type": "code",
   "execution_count": 33,
   "metadata": {},
   "outputs": [],
   "source": [
    "# Learning curves of algorithms\n",
    "perceptron_curve     = learning_curve('Perceptron',     syn_dense_train_x, syn_dense_train_y, syn_dense_dev_x, syn_dense_dev_y, nums)\n",
    "winnow_curve         = learning_curve('Winnow',         syn_dense_train_x, syn_dense_train_y, syn_dense_dev_x, syn_dense_dev_y, nums)\n",
    "adagrad_curve        = learning_curve('Adagrad',        syn_dense_train_x, syn_dense_train_y, syn_dense_dev_x, syn_dense_dev_y, nums)\n",
    "perceptron_avg_curve = learning_curve('Perceptron-Avg', syn_dense_train_x, syn_dense_train_y, syn_dense_dev_x, syn_dense_dev_y, nums)\n",
    "winnow_avg_curve     = learning_curve('Winnow-Avg',     syn_dense_train_x, syn_dense_train_y, syn_dense_dev_x, syn_dense_dev_y, nums)\n",
    "adagrad_avg_curve    = learning_curve('Adagrad-Avg',    syn_dense_train_x, syn_dense_train_y, syn_dense_dev_x, syn_dense_dev_y, nums)\n",
    "SVM_curve = learning_curve_SVM('SVM', syn_dense_train_x, syn_dense_train_y, syn_dense_dev_x, syn_dense_dev_y, nums)"
   ]
  },
  {
   "cell_type": "code",
   "execution_count": 34,
   "metadata": {},
   "outputs": [],
   "source": [
    "# print(perceptron_curve)\n",
    "# print(winnow_curve)\n",
    "# print(adagrad_curve)\n",
    "# print(perceptron_avg_curve)\n",
    "# print(winnow_avg_curve)\n",
    "# print(adagrad_avg_curve)\n",
    "# print(SVM_curve)\n"
   ]
  },
  {
   "cell_type": "code",
   "execution_count": 41,
   "metadata": {},
   "outputs": [
    {
     "data": {
      "image/png": "[encoded data removed]",
      "text/plain": [
       "<Figure size 432x288 with 2 Axes>"
      ]
     },
     "metadata": {},
     "output_type": "display_data"
    }
   ],
   "source": [
    "import matplotlib.pyplot as plt\n",
    "\n",
    "f,(ax,ax2) = plt.subplots(1,2,sharey=True, facecolor='w')   \n",
    "ax.set_xlim(300,5300)\n",
    "# xticks = range(0,5500,1000)\n",
    "# ax.set_yticks(xticks)\n",
    "ax2.set_xlim(49000,51000)\n",
    "ax.spines['right'].set_visible(False)\n",
    "ax2.spines['left'].set_visible(False)\n",
    "ax.yaxis.tick_left()\n",
    "ax2.tick_params(labelright=True)\n",
    "ax2.yaxis.tick_right()\n",
    "\n",
    "l1, = ax.plot(nums, perceptron_curve,'x-')\n",
    "l1, = ax2.plot(nums, perceptron_curve,'x-')\n",
    "l2, = ax.plot(nums, winnow_curve,'+-')\n",
    "l2, = ax2.plot(nums, winnow_curve,'+-')\n",
    "l3, = ax.plot(nums, adagrad_curve,'o-')\n",
    "l3, = ax2.plot(nums, adagrad_curve,'o-')\n",
    "l4, = ax.plot(nums, perceptron_avg_curve,'2-')\n",
    "l4, = ax2.plot(nums, perceptron_avg_curve,'2-')\n",
    "l5, = ax.plot(nums, winnow_avg_curve,'v-')\n",
    "l5, = ax2.plot(nums, winnow_avg_curve,'v-')\n",
    "l6, = ax.plot(nums, adagrad_avg_curve,'s-')\n",
    "l6, = ax2.plot(nums, adagrad_avg_curve,'s-')\n",
    "l7, = ax.plot(nums, SVM_curve,'*-')\n",
    "l7, = ax2.plot(nums, SVM_curve,'*-')\n",
    "plt.legend(handles = [l1,l2,l3,l4,l5,l6,l7], labels = ['Perceptron','Winnow','Adagrad','Perceptron-Avg','Winnow-Avg','Adagrad-Avg','SVM'], loc = 'best')\n",
    "plt.show()"
   ]
  },
  {
   "cell_type": "code",
   "execution_count": 36,
   "metadata": {},
   "outputs": [],
   "source": [
    "# Learning curve points for Synthetic sparse data\n",
    "perceptron_curve_sparse     = learning_curve('Perceptron',     syn_sparse_train_x, syn_sparse_train_y, syn_sparse_dev_x, syn_sparse_dev_y, nums)\n",
    "winnow_curve_sparse         = learning_curve('Winnow',         syn_sparse_train_x, syn_sparse_train_y, syn_sparse_dev_x, syn_sparse_dev_y, nums)\n",
    "adagrad_curve_sparse        = learning_curve('Adagrad',        syn_sparse_train_x, syn_sparse_train_y, syn_sparse_dev_x, syn_sparse_dev_y, nums)\n",
    "perceptron_avg_curve_sparse = learning_curve('Perceptron-Avg', syn_sparse_train_x, syn_sparse_train_y, syn_sparse_dev_x, syn_sparse_dev_y, nums)\n",
    "winnow_avg_curve_sparse     = learning_curve('Winnow-Avg',     syn_sparse_train_x, syn_sparse_train_y, syn_sparse_dev_x, syn_sparse_dev_y, nums)\n",
    "adagrad_avg_curve_sparse    = learning_curve('Adagrad-Avg',    syn_sparse_train_x, syn_sparse_train_y, syn_sparse_dev_x, syn_sparse_dev_y, nums)\n",
    "SVM_curve_sparse            = learning_curve_SVM('SVM',        syn_sparse_train_x, syn_sparse_train_y, syn_sparse_dev_x, syn_sparse_dev_y, nums)"
   ]
  },
  {
   "cell_type": "code",
   "execution_count": 37,
   "metadata": {
    "scrolled": true
   },
   "outputs": [
    {
     "data": {
      "image/png": "[encoded data removed]",
      "text/plain": [
       "<Figure size 432x288 with 2 Axes>"
      ]
     },
     "metadata": {},
     "output_type": "display_data"
    }
   ],
   "source": [
    "# Plot the Learning curve for Synthetic sparse data\n",
    "f,(ax,ax2) = plt.subplots(1,2,sharey=True, facecolor='w')   \n",
    "ax.set_xlim(300,5300)\n",
    "# xticks = range(0,5500,1000)\n",
    "# ax.set_yticks(xticks)\n",
    "ax2.set_xlim(49000,56000)\n",
    "ax.spines['right'].set_visible(False)\n",
    "ax2.spines['left'].set_visible(False)\n",
    "ax.yaxis.tick_left()\n",
    "ax2.tick_params(labelright=True)\n",
    "ax2.yaxis.tick_right()\n",
    "\n",
    "l1, = ax.plot(nums, perceptron_curve_sparse,'x-')\n",
    "l1, = ax2.plot(nums, perceptron_curve_sparse,'x-')\n",
    "l2, = ax.plot(nums, winnow_curve_sparse,'+-')\n",
    "l2, = ax2.plot(nums, winnow_curve_sparse,'+-')\n",
    "l3, = ax.plot(nums, adagrad_curve_sparse,'o-')\n",
    "l3, = ax2.plot(nums, adagrad_curve_sparse,'o-')\n",
    "l4, = ax.plot(nums, perceptron_avg_curve_sparse,'2-')\n",
    "l4, = ax2.plot(nums, perceptron_avg_curve_sparse,'2-')\n",
    "l5, = ax.plot(nums, winnow_avg_curve_sparse,'v-')\n",
    "l5, = ax2.plot(nums, winnow_avg_curve_sparse,'v-')\n",
    "l6, = ax.plot(nums, adagrad_avg_curve_sparse,'s-')\n",
    "l6, = ax2.plot(nums, adagrad_avg_curve_sparse,'s-')\n",
    "l7, = ax.plot(nums, SVM_curve_sparse,'*-')\n",
    "l7, = ax2.plot(nums, SVM_curve_sparse,'*-')\n",
    "plt.legend(handles = [l1,l2,l3,l4,l5,l6,l7], labels = ['Perceptron','Winnow','Adagrad','Perceptron-Avg','Winnow-Avg','Adagrad-Avg','SVM'], loc = 'best')\n",
    "plt.show()\n"
   ]
  },
  {
   "cell_type": "code",
   "execution_count": 38,
   "metadata": {},
   "outputs": [],
   "source": [
    "# Perdicted Label - Averaged Perceptron\n",
    "\n",
    "# 1.Averaged Perceptron - Syn Dense\n",
    "p_avg = Classifier('Perceptron-Avg', syn_dense_train_x, syn_dense_train_y, iterations=10, averaged = True)\n",
    "with open('p-dense.txt','w') as f:\n",
    "    for i in range(len(syn_dense_test)):\n",
    "        xi = syn_dense_test[i]\n",
    "        y_hat = p_avg.predict(xi)\n",
    "        f.write(str(y_hat)+'\\n')\n",
    "    \n",
    "# 2. Averaged Perceptron - Syn sparse\n",
    "p_avg = Classifier('Perceptron-Avg', syn_sparse_train_x, syn_sparse_train_y, iterations=10, averaged = True)\n",
    "with open('p-sparse.txt','w') as f:\n",
    "    for i in range(len(syn_sparse_test)):\n",
    "        xi = syn_sparse_test[i]\n",
    "        y_hat = p_avg.predict(xi)\n",
    "        f.write(str(y_hat)+'\\n')\n",
    "    \n",
    "\n",
    "# 3. Averaged Perceptron - News \n",
    "p_avg = Classifier('Perceptron-Avg', news_train_x, news_train_y, iterations=10, averaged=True)\n",
    "i = 0\n",
    "with open('p-conll.txt','w') as f:\n",
    "    for sentence in news_test_data:\n",
    "        for word in sentence:            \n",
    "            xi = news_test_x[i]\n",
    "            y_hat = p_avg.predict(xi)\n",
    "            line = word[0]+(' I' if y_hat==1 else ' O')\n",
    "            f.write(line+'\\n')\n",
    "            i += 1\n",
    "        f.write('\\n')\n",
    "\n",
    "# 4. Averaged Perceptron - Email \n",
    "p_avg = Classifier('Perceptron-Avg', news_train_x, news_train_y, iterations=10, averaged=True)\n",
    "i = 0\n",
    "with open('p-enron.txt','w') as f:\n",
    "    for sentence in email_test_data:\n",
    "        for word in sentence:            \n",
    "            xi = email_test_x[i]\n",
    "            y_hat = p_avg.predict(xi)\n",
    "            line = word[0]+(' I' if y_hat==1 else ' O')\n",
    "            f.write(line+'\\n')\n",
    "            i += 1\n",
    "        f.write('\\n')\n",
    "    "
   ]
  },
  {
   "cell_type": "code",
   "execution_count": 39,
   "metadata": {},
   "outputs": [],
   "source": [
    "# Perdicted Label - SVM\n",
    "\n",
    "# 1. SVM - Syn Dense\n",
    "s = Classifier('SVM', syn_dense_train_x, syn_dense_train_y)\n",
    "with open('svm-dense.txt','w') as f:\n",
    "    for i in range(len(syn_dense_test)):\n",
    "        xi = syn_dense_test[i]\n",
    "        y_hat = s.predict_SVM(xi)\n",
    "        f.write(str(y_hat)+'\\n')\n",
    "\n",
    "# 2. SVM - Syn sparse\n",
    "s = Classifier('SVM', syn_sparse_train_x, syn_sparse_train_y)\n",
    "with open('svm-sparse.txt','w') as f:\n",
    "    for i in range(len(syn_sparse_test)):\n",
    "        xi = syn_sparse_test[i]\n",
    "        y_hat = s.predict_SVM(xi)\n",
    "        f.write(str(y_hat)+'\\n')\n",
    "        \n",
    "# 3. SVM - News \n",
    "s = Classifier('SVM', news_train_x, news_train_y)\n",
    "i = 0\n",
    "with open('svm-conll.txt','w') as f:\n",
    "    for sentence in news_test_data:\n",
    "        for word in sentence:            \n",
    "            xi = news_test_x[i]\n",
    "            y_hat = s.predict_SVM(xi)\n",
    "            line = word[0]+(' I' if y_hat==1 else ' O')\n",
    "            f.write(line+'\\n')\n",
    "            i += 1\n",
    "        f.write('\\n')\n",
    "\n",
    "# 4. SVM - Email \n",
    "s = Classifier('SVM', news_train_x, news_train_y)\n",
    "i = 0\n",
    "with open('svm-enron.txt','w') as f:\n",
    "    for sentence in email_test_data:\n",
    "        for word in sentence:            \n",
    "            xi = email_test_x[i]\n",
    "            y_hat = s.predict_SVM(xi)\n",
    "            line = word[0]+(' I' if y_hat==1 else ' O')\n",
    "            f.write(line+'\\n')\n",
    "            i += 1\n",
    "        f.write('\\n')\n",
    "            "
   ]
  },
  {
   "cell_type": "code",
   "execution_count": null,
   "metadata": {},
   "outputs": [],
   "source": []
  }
 ],
 "metadata": {
  "kernelspec": {
   "display_name": "Python 3",
   "language": "python",
   "name": "python3"
  },
  "language_info": {
   "codemirror_mode": {
    "name": "ipython",
    "version": 3
   },
   "file_extension": ".py",
   "mimetype": "text/x-python",
   "name": "python",
   "nbconvert_exporter": "python",
   "pygments_lexer": "ipython3",
   "version": "3.6.5"
  }
 },
 "nbformat": 4,
 "nbformat_minor": 2
}
